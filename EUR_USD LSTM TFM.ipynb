{
 "cells": [
  {
   "cell_type": "code",
   "execution_count": 2,
   "metadata": {},
   "outputs": [],
   "source": [
    "import matplotlib.pyplot as plt\n",
    "import yfinance as yf\n",
    "import datetime\n",
    "import time"
   ]
  },
  {
   "cell_type": "code",
   "execution_count": 3,
   "metadata": {},
   "outputs": [],
   "source": [
    "import math\n",
    "import matplotlib.pyplot as plt\n",
    "import keras\n",
    "import pandas as pd\n",
    "import numpy as np\n",
    "from keras.models import Sequential\n",
    "from keras.layers import Dense\n",
    "from keras.layers import LSTM\n",
    "from keras.layers import Dropout\n",
    "from keras.layers import *\n",
    "from sklearn.preprocessing import MinMaxScaler\n",
    "from sklearn.metrics import mean_squared_error\n",
    "from sklearn.metrics import mean_absolute_error\n",
    "from sklearn.model_selection import train_test_split"
   ]
  },
  {
   "cell_type": "code",
   "execution_count": 4,
   "metadata": {},
   "outputs": [
    {
     "name": "stdout",
     "output_type": "stream",
     "text": [
      "[*********************100%***********************]  1 of 1 completed\n"
     ]
    },
    {
     "data": {
      "text/plain": [
       "(5610, 6)"
      ]
     },
     "execution_count": 4,
     "metadata": {},
     "output_type": "execute_result"
    }
   ],
   "source": [
    "EUR_USD = yf.download(\"EURUSD=X\", start=\"2021-02-22\", end=\"2021-02-26\", interval=\"1m\")\n",
    "EUR_USD.shape"
   ]
  },
  {
   "cell_type": "code",
   "execution_count": 5,
   "metadata": {},
   "outputs": [],
   "source": [
    "# EUR_USD.to_csv('EUR_USD.csv')"
   ]
  },
  {
   "cell_type": "code",
   "execution_count": 6,
   "metadata": {},
   "outputs": [
    {
     "data": {
      "text/html": [
       "<div>\n",
       "<style scoped>\n",
       "    .dataframe tbody tr th:only-of-type {\n",
       "        vertical-align: middle;\n",
       "    }\n",
       "\n",
       "    .dataframe tbody tr th {\n",
       "        vertical-align: top;\n",
       "    }\n",
       "\n",
       "    .dataframe thead th {\n",
       "        text-align: right;\n",
       "    }\n",
       "</style>\n",
       "<table border=\"1\" class=\"dataframe\">\n",
       "  <thead>\n",
       "    <tr style=\"text-align: right;\">\n",
       "      <th></th>\n",
       "      <th>Datetime</th>\n",
       "      <th>Open</th>\n",
       "      <th>High</th>\n",
       "      <th>Low</th>\n",
       "      <th>Close</th>\n",
       "      <th>Adj Close</th>\n",
       "      <th>Volume</th>\n",
       "    </tr>\n",
       "  </thead>\n",
       "  <tbody>\n",
       "    <tr>\n",
       "      <th>0</th>\n",
       "      <td>2021-02-22 00:00:00</td>\n",
       "      <td>1.212856</td>\n",
       "      <td>1.212856</td>\n",
       "      <td>1.212856</td>\n",
       "      <td>1.212856</td>\n",
       "      <td>1.212856</td>\n",
       "      <td>0</td>\n",
       "    </tr>\n",
       "    <tr>\n",
       "      <th>1</th>\n",
       "      <td>2021-02-22 00:01:00</td>\n",
       "      <td>1.212709</td>\n",
       "      <td>1.212709</td>\n",
       "      <td>1.212709</td>\n",
       "      <td>1.212709</td>\n",
       "      <td>1.212709</td>\n",
       "      <td>0</td>\n",
       "    </tr>\n",
       "    <tr>\n",
       "      <th>2</th>\n",
       "      <td>2021-02-22 00:02:00</td>\n",
       "      <td>1.212856</td>\n",
       "      <td>1.212856</td>\n",
       "      <td>1.212856</td>\n",
       "      <td>1.212856</td>\n",
       "      <td>1.212856</td>\n",
       "      <td>0</td>\n",
       "    </tr>\n",
       "    <tr>\n",
       "      <th>3</th>\n",
       "      <td>2021-02-22 00:03:00</td>\n",
       "      <td>1.213003</td>\n",
       "      <td>1.213003</td>\n",
       "      <td>1.213003</td>\n",
       "      <td>1.213003</td>\n",
       "      <td>1.213003</td>\n",
       "      <td>0</td>\n",
       "    </tr>\n",
       "    <tr>\n",
       "      <th>4</th>\n",
       "      <td>2021-02-22 00:04:00</td>\n",
       "      <td>1.212562</td>\n",
       "      <td>1.212562</td>\n",
       "      <td>1.212562</td>\n",
       "      <td>1.212562</td>\n",
       "      <td>1.212562</td>\n",
       "      <td>0</td>\n",
       "    </tr>\n",
       "  </tbody>\n",
       "</table>\n",
       "</div>"
      ],
      "text/plain": [
       "             Datetime      Open      High       Low     Close  Adj Close  \\\n",
       "0 2021-02-22 00:00:00  1.212856  1.212856  1.212856  1.212856   1.212856   \n",
       "1 2021-02-22 00:01:00  1.212709  1.212709  1.212709  1.212709   1.212709   \n",
       "2 2021-02-22 00:02:00  1.212856  1.212856  1.212856  1.212856   1.212856   \n",
       "3 2021-02-22 00:03:00  1.213003  1.213003  1.213003  1.213003   1.213003   \n",
       "4 2021-02-22 00:04:00  1.212562  1.212562  1.212562  1.212562   1.212562   \n",
       "\n",
       "   Volume  \n",
       "0       0  \n",
       "1       0  \n",
       "2       0  \n",
       "3       0  \n",
       "4       0  "
      ]
     },
     "execution_count": 6,
     "metadata": {},
     "output_type": "execute_result"
    }
   ],
   "source": [
    "EUR_USD = pd.read_csv('EUR_USD.csv')\n",
    "# EUR_USD['Datetime'] = pd.to_datetime(EUR_USD['Datetime'])\n",
    "EUR_USD['Datetime'] = pd.to_datetime(EUR_USD.Datetime).dt.tz_localize(None)\n",
    "EUR_USD.head()"
   ]
  },
  {
   "cell_type": "code",
   "execution_count": 7,
   "metadata": {},
   "outputs": [
    {
     "data": {
      "text/plain": [
       "Datetime     datetime64[ns]\n",
       "Open                float64\n",
       "High                float64\n",
       "Low                 float64\n",
       "Close               float64\n",
       "Adj Close           float64\n",
       "Volume                int64\n",
       "dtype: object"
      ]
     },
     "execution_count": 7,
     "metadata": {},
     "output_type": "execute_result"
    }
   ],
   "source": [
    "EUR_USD.dtypes"
   ]
  },
  {
   "cell_type": "code",
   "execution_count": 8,
   "metadata": {},
   "outputs": [
    {
     "data": {
      "image/png": "[encoded data removed]",
      "text/plain": [
       "<Figure size 864x504 with 1 Axes>"
      ]
     },
     "metadata": {
      "needs_background": "light"
     },
     "output_type": "display_data"
    }
   ],
   "source": [
    "plt.rcParams['figure.figsize'] = [12, 7]\n",
    "plt.title('close price history')\n",
    "plt.plot(EUR_USD['Datetime'], EUR_USD['Close'])\n",
    "plt.xlabel('Datetime')\n",
    "plt.ylabel('Close Price', fontsize = 18)\n",
    "plt.show()"
   ]
  },
  {
   "cell_type": "code",
   "execution_count": 9,
   "metadata": {},
   "outputs": [
    {
     "data": {
      "text/plain": [
       "4488"
      ]
     },
     "execution_count": 9,
     "metadata": {},
     "output_type": "execute_result"
    }
   ],
   "source": [
    "#tomar solo los valores de close\n",
    "data = EUR_USD.filter(['Close'])\n",
    "# convertir el dataframe a un numpy array\n",
    "dataset = data.values\n",
    "#Coger el 80% de las filas para el modelo de entrenamiento\n",
    "training_data_len = math.ceil(len(dataset) * .8)\n",
    "training_data_len"
   ]
  },
  {
   "cell_type": "code",
   "execution_count": 10,
   "metadata": {},
   "outputs": [
    {
     "data": {
      "text/plain": [
       "array([[0.22557044],\n",
       "       [0.21573566],\n",
       "       [0.22557044],\n",
       "       ...,\n",
       "       [0.61094419],\n",
       "       [0.62087461],\n",
       "       [0.64074343]])"
      ]
     },
     "execution_count": 10,
     "metadata": {},
     "output_type": "execute_result"
    }
   ],
   "source": [
    "#Escalar los datos\n",
    "scaler = MinMaxScaler(feature_range=(0,1))\n",
    "scaled_data = scaler.fit_transform(dataset)\n",
    "scaled_data"
   ]
  },
  {
   "cell_type": "code",
   "execution_count": 11,
   "metadata": {},
   "outputs": [
    {
     "name": "stdout",
     "output_type": "stream",
     "text": [
      "[array([0.22557044, 0.21573566, 0.22557044, 0.23540523, 0.20590884,\n",
      "       0.22557044, 0.21573566, 0.20590884, 0.21573566, 0.20590884,\n",
      "       0.23540523, 0.23540523, 0.21573566, 0.22557044, 0.25508277,\n",
      "       0.23540523, 0.23540523, 0.21573566, 0.20590884, 0.21573566,\n",
      "       0.22557044, 0.22557044, 0.22557044, 0.22557044, 0.22557044,\n",
      "       0.24524798, 0.21573566, 0.21573566, 0.21573566, 0.22557044,\n",
      "       0.23540523, 0.24524798, 0.24524798, 0.26492552, 0.25508277,\n",
      "       0.26492552, 0.24524798, 0.27477625, 0.26492552, 0.25508277,\n",
      "       0.24524798, 0.23540523, 0.24524798, 0.23540523, 0.24524798,\n",
      "       0.23540523, 0.23540523, 0.24524798, 0.22557044, 0.22557044,\n",
      "       0.22557044, 0.21573566, 0.24524798, 0.21573566, 0.23540523,\n",
      "       0.24524798, 0.22557044, 0.22557044, 0.22557044, 0.21573566])]\n",
      "[0.2255704414495483]\n",
      "\n"
     ]
    }
   ],
   "source": [
    "# Crear el training dataset con los datos escalados\n",
    "train_data =scaled_data[0:training_data_len, :]\n",
    "# dividir la data en 2 datasets\n",
    "x_train = [] # x_train es los independing training features\n",
    "y_train = [] # y_train es la variable dependiente objetivo\n",
    "\n",
    "for i in range(60, len(train_data)):\n",
    "    x_train.append(train_data[i-60:i, 0]) #append the past 60 (pos 0 a 59) values to our x_train \n",
    "    y_train.append(train_data[i, 0]) # va a contener el valor 61 en posicion 60\n",
    "    if i<= 60:\n",
    "        print(x_train)\n",
    "        print(y_train)\n",
    "        print()"
   ]
  },
  {
   "cell_type": "code",
   "execution_count": 12,
   "metadata": {},
   "outputs": [],
   "source": [
    "#Convertir el x_train y y_train a numpy arrays para poder entrenar el modelo LSTM\n",
    "x_train, y_train = np.array(x_train), np.array(y_train)"
   ]
  },
  {
   "cell_type": "code",
   "execution_count": 13,
   "metadata": {},
   "outputs": [],
   "source": [
    "#reshape la data el x_train(4428, 60) tiene 2 dimensiones\n",
    "# Esto se hace porque la red LSTM espera recibir un input de 3 dimensiones:\n",
    "# Necesario: 1. El número de muestras, 2. número de minutos seleccionados, 3. número de output(closeprice)\n",
    "x_train = np.reshape(x_train, (x_train.shape[0], x_train.shape[1], 1))"
   ]
  },
  {
   "cell_type": "code",
   "execution_count": 14,
   "metadata": {},
   "outputs": [
    {
     "data": {
      "text/plain": [
       "(4428, 60, 1)"
      ]
     },
     "execution_count": 14,
     "metadata": {},
     "output_type": "execute_result"
    }
   ],
   "source": [
    "#Nueva forma\n",
    "x_train.shape"
   ]
  },
  {
   "cell_type": "code",
   "execution_count": 15,
   "metadata": {},
   "outputs": [],
   "source": [
    "#Construcción delmodelo LSTM\n",
    "model = Sequential()\n",
    "# Se utilizan 50 neuronas, True porque va a haber más LSTM layers\n",
    "# Como es el primer layer, se le añade el número de minutos seleccionados y el nº de outputs (60,1)\n",
    "model.add(LSTM(50, return_sequences=True, input_shape=(x_train.shape[1], 1)))\n",
    "# Otro layer con 50 neuronas\n",
    "model.add(LSTM(50, return_sequences =False))\n",
    "#Se añade un dense layer con 25 neuronas\n",
    "model.add(Dense(25))\n",
    "#Se añade otro dense layer con 1 neurona\n",
    "model.add(Dense(1))"
   ]
  },
  {
   "cell_type": "code",
   "execution_count": 16,
   "metadata": {},
   "outputs": [],
   "source": [
    "#Compile the model\n",
    "# Se utiliza un optimizador para mejorar la función de perdida(loss function)\n",
    "model.compile(optimizer='adam', loss='mean_squared_error')\n",
    "#loss function mide como de bien lo ha hecho el modelo en el entrenamiento"
   ]
  },
  {
   "cell_type": "code",
   "execution_count": 17,
   "metadata": {},
   "outputs": [
    {
     "name": "stdout",
     "output_type": "stream",
     "text": [
      "4428/4428 [==============================] - 75s 16ms/step - loss: 0.0014\n"
     ]
    },
    {
     "data": {
      "text/plain": [
       "<tensorflow.python.keras.callbacks.History at 0x239e6dae340>"
      ]
     },
     "execution_count": 17,
     "metadata": {},
     "output_type": "execute_result"
    }
   ],
   "source": [
    "#Entrenamos el modelo\n",
    "model.fit(x_train, y_train, batch_size = 1, epochs=1)"
   ]
  },
  {
   "cell_type": "code",
   "execution_count": 67,
   "metadata": {},
   "outputs": [],
   "source": [
    "#Ahora procedemmos a crear el testing dataset\n",
    "#Creamos un array que contiene los valores esclados de (4428-60) a 5610\n",
    "test_data = scaled_data[training_data_len - 60: , :]\n",
    "#Creamos otra vez los dataset x e y para test \n",
    "x_test = [] #lista vacia\n",
    "y_test = dataset[training_data_len:, :] \n",
    "# y_test son los valores que queremos que nuestro modelo prediga (no estan escalados)\n",
    "for i in range(60, len(test_data)):\n",
    "    x_test.append(test_data[i-60:i, 0])"
   ]
  },
  {
   "cell_type": "code",
   "execution_count": 68,
   "metadata": {},
   "outputs": [],
   "source": [
    "#Se convierten los datos en un numpy array\n",
    "x_test = np.array(x_test)"
   ]
  },
  {
   "cell_type": "code",
   "execution_count": 69,
   "metadata": {},
   "outputs": [],
   "source": [
    "#Reshape a la data\n",
    "x_test = np.reshape(x_test, (x_test.shape[0], x_test.shape[1], 1))"
   ]
  },
  {
   "cell_type": "code",
   "execution_count": 70,
   "metadata": {},
   "outputs": [
    {
     "data": {
      "text/plain": [
       "(1122, 60, 1)"
      ]
     },
     "execution_count": 70,
     "metadata": {},
     "output_type": "execute_result"
    }
   ],
   "source": [
    "x_test.shape"
   ]
  },
  {
   "cell_type": "code",
   "execution_count": 60,
   "metadata": {},
   "outputs": [],
   "source": [
    "#Conseguir los valores predichos\n",
    "predictions = model.predict(x_test)\n",
    "predictions =scaler.inverse_transform(predictions) #esto se hace para desescalar los valores"
   ]
  },
  {
   "cell_type": "code",
   "execution_count": 61,
   "metadata": {},
   "outputs": [
    {
     "name": "stdout",
     "output_type": "stream",
     "text": [
      "El rmse es de: 0.0008013924175405135\n"
     ]
    }
   ],
   "source": [
    "# Root mean square error (RMSE)\n",
    "#rms_error = np.sqrt(mean_squared_error(predictions,y_test.fittedvalues))\n",
    "rmse = np.sqrt(np.mean(predictions - y_test)**2)\n",
    "print(\"El rmse es de:\", rmse)\n",
    "#Es bastante bueno, un valor de 0 indica que predice exactamente los valores dados\n",
    "# mide la cantidad de error que hay entre dos conjuntos de datos. \n",
    "# En otras palabras, compara un valor predicho y un valor observado o conocido."
   ]
  },
  {
   "cell_type": "code",
   "execution_count": 62,
   "metadata": {},
   "outputs": [
    {
     "name": "stderr",
     "output_type": "stream",
     "text": [
      "<ipython-input-62-46599c9a15dd>:3: SettingWithCopyWarning: \n",
      "A value is trying to be set on a copy of a slice from a DataFrame.\n",
      "Try using .loc[row_indexer,col_indexer] = value instead\n",
      "\n",
      "See the caveats in the documentation: https://pandas.pydata.org/pandas-docs/stable/user_guide/indexing.html#returning-a-view-versus-a-copy\n",
      "  valid['Predictions'] = predictions\n"
     ]
    },
    {
     "data": {
      "image/png": "[encoded data removed]",
      "text/plain": [
       "<Figure size 864x504 with 1 Axes>"
      ]
     },
     "metadata": {
      "needs_background": "light"
     },
     "output_type": "display_data"
    }
   ],
   "source": [
    "train = data[:training_data_len]\n",
    "valid =data[training_data_len:]\n",
    "valid['Predictions'] = predictions\n",
    "plt.title('model')\n",
    "plt.xlabel('Date')\n",
    "plt.ylabel('Close price')\n",
    "plt.plot(train['Close'])\n",
    "plt.plot(valid[['Close', 'Predictions']])\n",
    "plt.legend(['Train', 'Actual value', 'Predictions'])\n",
    "plt.show()"
   ]
  },
  {
   "cell_type": "code",
   "execution_count": 63,
   "metadata": {},
   "outputs": [
    {
     "data": {
      "text/html": [
       "<div>\n",
       "<style scoped>\n",
       "    .dataframe tbody tr th:only-of-type {\n",
       "        vertical-align: middle;\n",
       "    }\n",
       "\n",
       "    .dataframe tbody tr th {\n",
       "        vertical-align: top;\n",
       "    }\n",
       "\n",
       "    .dataframe thead th {\n",
       "        text-align: right;\n",
       "    }\n",
       "</style>\n",
       "<table border=\"1\" class=\"dataframe\">\n",
       "  <thead>\n",
       "    <tr style=\"text-align: right;\">\n",
       "      <th></th>\n",
       "      <th>Close</th>\n",
       "      <th>Predictions</th>\n",
       "    </tr>\n",
       "  </thead>\n",
       "  <tbody>\n",
       "    <tr>\n",
       "      <th>4488</th>\n",
       "      <td>1.217285</td>\n",
       "      <td>1.217058</td>\n",
       "    </tr>\n",
       "    <tr>\n",
       "      <th>4489</th>\n",
       "      <td>1.217582</td>\n",
       "      <td>1.217005</td>\n",
       "    </tr>\n",
       "    <tr>\n",
       "      <th>4490</th>\n",
       "      <td>1.216841</td>\n",
       "      <td>1.217047</td>\n",
       "    </tr>\n",
       "    <tr>\n",
       "      <th>4491</th>\n",
       "      <td>1.217434</td>\n",
       "      <td>1.216866</td>\n",
       "    </tr>\n",
       "    <tr>\n",
       "      <th>4492</th>\n",
       "      <td>1.217285</td>\n",
       "      <td>1.216873</td>\n",
       "    </tr>\n",
       "    <tr>\n",
       "      <th>...</th>\n",
       "      <td>...</td>\n",
       "      <td>...</td>\n",
       "    </tr>\n",
       "    <tr>\n",
       "      <th>5605</th>\n",
       "      <td>1.218769</td>\n",
       "      <td>1.218252</td>\n",
       "    </tr>\n",
       "    <tr>\n",
       "      <th>5606</th>\n",
       "      <td>1.218621</td>\n",
       "      <td>1.218224</td>\n",
       "    </tr>\n",
       "    <tr>\n",
       "      <th>5607</th>\n",
       "      <td>1.218621</td>\n",
       "      <td>1.218163</td>\n",
       "    </tr>\n",
       "    <tr>\n",
       "      <th>5608</th>\n",
       "      <td>1.218769</td>\n",
       "      <td>1.218116</td>\n",
       "    </tr>\n",
       "    <tr>\n",
       "      <th>5609</th>\n",
       "      <td>1.219066</td>\n",
       "      <td>1.218139</td>\n",
       "    </tr>\n",
       "  </tbody>\n",
       "</table>\n",
       "<p>1122 rows × 2 columns</p>\n",
       "</div>"
      ],
      "text/plain": [
       "         Close  Predictions\n",
       "4488  1.217285     1.217058\n",
       "4489  1.217582     1.217005\n",
       "4490  1.216841     1.217047\n",
       "4491  1.217434     1.216866\n",
       "4492  1.217285     1.216873\n",
       "...        ...          ...\n",
       "5605  1.218769     1.218252\n",
       "5606  1.218621     1.218224\n",
       "5607  1.218621     1.218163\n",
       "5608  1.218769     1.218116\n",
       "5609  1.219066     1.218139\n",
       "\n",
       "[1122 rows x 2 columns]"
      ]
     },
     "execution_count": 63,
     "metadata": {},
     "output_type": "execute_result"
    }
   ],
   "source": [
    "valid"
   ]
  },
  {
   "cell_type": "markdown",
   "metadata": {},
   "source": [
    "### para 1 día"
   ]
  },
  {
   "cell_type": "code",
   "execution_count": null,
   "metadata": {},
   "outputs": [],
   "source": [
    "EUR_USD = yf.download(\"EURUSD=X\", start=\"2021-02-22\", end=\"2021-02-22\", interval=\"1m\")\n",
    "EUR_USD.shape"
   ]
  },
  {
   "cell_type": "code",
   "execution_count": null,
   "metadata": {},
   "outputs": [],
   "source": [
    "EUR_USD.to_csv('EUR_USD.csv')"
   ]
  }
 ],
 "metadata": {
  "kernelspec": {
   "display_name": "Python 3",
   "language": "python",
   "name": "python3"
  },
  "language_info": {
   "codemirror_mode": {
    "name": "ipython",
    "version": 3
   },
   "file_extension": ".py",
   "mimetype": "text/x-python",
   "name": "python",
   "nbconvert_exporter": "python",
   "pygments_lexer": "ipython3",
   "version": "3.8.3"
  }
 },
 "nbformat": 4,
 "nbformat_minor": 4
}
